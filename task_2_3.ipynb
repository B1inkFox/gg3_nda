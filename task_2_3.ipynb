{
 "cells": [
  {
   "cell_type": "code",
   "execution_count": 100,
   "metadata": {},
   "outputs": [],
   "source": [
    "# import\n",
    "from inference import *\n",
    "from HMM_models import *\n",
    "import matplotlib.pyplot as plt"
   ]
  },
  {
   "cell_type": "code",
   "execution_count": 101,
   "metadata": {},
   "outputs": [],
   "source": [
    "# create models\n",
    "\n",
    "pi0 = np.array([0.333, 0.333, 0.334]) #inital distribution\n",
    "Ps = np.array([[0.33, 0.33, 0.34], [0.33, 0.33, 0.34], [0.33, 0.33, 0.34]]) #transition matrix\n",
    "\n",
    "#toy example\n",
    "counts = np.array([0, 1, 2, 3, 4, 4,4,4,4,4]).astype(np.int32)\n",
    "lambdas = np.array([1, 1, 2]).astype(np.int32)\n",
    "ll = poisson_logpdf(counts, lambdas)\n",
    "\n",
    "# run toy example to initialize funciuton\n",
    "posterior, normalizer = hmm_expected_states(pi0, Ps, ll)\n"
   ]
  },
  {
   "cell_type": "code",
   "execution_count": 102,
   "metadata": {},
   "outputs": [
    {
     "data": {
      "text/plain": [
       "(10, 3)"
      ]
     },
     "execution_count": 102,
     "metadata": {},
     "output_type": "execute_result"
    }
   ],
   "source": [
    "ll.shape"
   ]
  },
  {
   "cell_type": "code",
   "execution_count": 103,
   "metadata": {},
   "outputs": [
    {
     "data": {
      "image/png": "[encoded data removed]",
      "text/plain": [
       "<Figure size 640x480 with 2 Axes>"
      ]
     },
     "metadata": {},
     "output_type": "display_data"
    }
   ],
   "source": [
    "plt.imshow(posterior.T, cmap='hot', interpolation= 'bilinear', origin='lower')\n",
    "plt.colorbar()\n",
    "\n",
    "plt.show()"
   ]
  },
  {
   "cell_type": "code",
   "execution_count": 104,
   "metadata": {},
   "outputs": [],
   "source": [
    "#common parameters\n",
    "x0 = 0.2\n",
    "Rh = 75\n",
    "T = 100\n",
    "\n",
    "# define parameters ramp\n",
    "beta = 1.5\n",
    "sigma = 0.3\n",
    "K = 50\n",
    "\n",
    "# define parameters step\n",
    "m = 32\n",
    "r = 20"
   ]
  },
  {
   "cell_type": "code",
   "execution_count": 105,
   "metadata": {},
   "outputs": [],
   "source": [
    "# Replace numerical arguments with variable name\n",
    "rhmm = HMM_Ramp_Model(beta, sigma, x0, Rh)\n",
    "shmm = HMM_Step_Model(m, r, x0, Rh)"
   ]
  },
  {
   "cell_type": "code",
   "execution_count": 107,
   "metadata": {},
   "outputs": [
    {
     "ename": "TypeError",
     "evalue": "HMM_Step_Model.get_transition_matrix() takes 1 positional argument but 3 were given",
     "output_type": "error",
     "traceback": [
      "\u001b[1;31m---------------------------------------------------------------------------\u001b[0m",
      "\u001b[1;31mTypeError\u001b[0m                                 Traceback (most recent call last)",
      "Cell \u001b[1;32mIn[107], line 1\u001b[0m\n\u001b[1;32m----> 1\u001b[0m spikes_step, xs_step, rates_step \u001b[38;5;241m=\u001b[39m \u001b[43mshmm\u001b[49m\u001b[38;5;241;43m.\u001b[39;49m\u001b[43msimulate\u001b[49m\u001b[43m(\u001b[49m\u001b[43m)\u001b[49m\n\u001b[0;32m      2\u001b[0m spikes_ramp, xs_ramp, rates_ramp \u001b[38;5;241m=\u001b[39m rhmm\u001b[38;5;241m.\u001b[39msimulate()\n",
      "File \u001b[1;32mc:\\Users\\Zibo Yu\\Documents\\GitHub\\gg3_nda\\HMM_models.py:104\u001b[0m, in \u001b[0;36msimulate\u001b[1;34m(self, Ntrials, T, get_rate)\u001b[0m\n\u001b[0;32m    102\u001b[0m s[\u001b[38;5;241m0\u001b[39m] \u001b[38;5;241m=\u001b[39m np\u001b[38;5;241m.\u001b[39mrandom\u001b[38;5;241m.\u001b[39mchoice(states, p \u001b[38;5;241m=\u001b[39m \u001b[38;5;28mself\u001b[39m\u001b[38;5;241m.\u001b[39mget_initial_distribution())\n\u001b[0;32m    103\u001b[0m trans_matrix \u001b[38;5;241m=\u001b[39m \u001b[38;5;28mself\u001b[39m\u001b[38;5;241m.\u001b[39mget_transition_matrix()\n\u001b[1;32m--> 104\u001b[0m \u001b[38;5;28;01mfor\u001b[39;00m i \u001b[38;5;129;01min\u001b[39;00m \u001b[38;5;28mrange\u001b[39m (\u001b[38;5;241m1\u001b[39m,T):\n\u001b[0;32m    105\u001b[0m     s[i] \u001b[38;5;241m=\u001b[39m np\u001b[38;5;241m.\u001b[39mrandom\u001b[38;5;241m.\u001b[39mchoice(states, p \u001b[38;5;241m=\u001b[39m trans_matrix[\u001b[38;5;28mint\u001b[39m(s[i\u001b[38;5;241m-\u001b[39m\u001b[38;5;241m1\u001b[39m])])\n\u001b[0;32m    107\u001b[0m \u001b[38;5;66;03m# first set rate at all times to pre-step rate\u001b[39;00m\n",
      "File \u001b[1;32mc:\\Users\\Zibo Yu\\Documents\\GitHub\\gg3_nda\\HMM_models.py:77\u001b[0m, in \u001b[0;36mget_initial_distribution\u001b[1;34m(self)\u001b[0m\n\u001b[0;32m     75\u001b[0m mat \u001b[38;5;241m=\u001b[39m \u001b[38;5;28mself\u001b[39m\u001b[38;5;241m.\u001b[39mget_transition_matrix(\u001b[38;5;28mself\u001b[39m\u001b[38;5;241m.\u001b[39mm, \u001b[38;5;28mself\u001b[39m\u001b[38;5;241m.\u001b[39mr)\n\u001b[0;32m     76\u001b[0m \u001b[38;5;28;01mfor\u001b[39;00m i \u001b[38;5;129;01min\u001b[39;00m \u001b[38;5;28mrange\u001b[39m(\u001b[38;5;28mself\u001b[39m\u001b[38;5;241m.\u001b[39mr\u001b[38;5;241m-\u001b[39m\u001b[38;5;241m1\u001b[39m):\n\u001b[1;32m---> 77\u001b[0m     dist \u001b[38;5;241m=\u001b[39m np\u001b[38;5;241m.\u001b[39mmatmul(dist, mat)\n\u001b[0;32m     78\u001b[0m     \u001b[38;5;28mprint\u001b[39m(dist)\n\u001b[0;32m     79\u001b[0m \u001b[38;5;28;01mreturn\u001b[39;00m dist\n",
      "\u001b[1;31mTypeError\u001b[0m: HMM_Step_Model.get_transition_matrix() takes 1 positional argument but 3 were given"
     ]
    }
   ],
   "source": [
    "spikes_step, xs_step, rates_step = shmm.simulate()\n",
    "spikes_ramp, xs_ramp, rates_ramp = rhmm.simulate()"
   ]
  },
  {
   "cell_type": "code",
   "execution_count": null,
   "metadata": {},
   "outputs": [],
   "source": [
    "ll_ramp = poisson_logpdf(spikes_ramp, rhmm.lambdas)\n",
    "ll_step = poisson_logpdf(spikes_step, shmm.lambdas)"
   ]
  },
  {
   "cell_type": "code",
   "execution_count": null,
   "metadata": {},
   "outputs": [],
   "source": [
    "\n",
    "posterior_ramp, normalizer_ramp = hmm_expected_states(rhmm.pi0, rhmm.P, ll_ramp)\n",
    "posterior_step, normalizer_step = hmm_expected_states(shmm.pi0, shmm.P, ll_step)"
   ]
  },
  {
   "cell_type": "code",
   "execution_count": null,
   "metadata": {},
   "outputs": [],
   "source": [
    "plt.imshow(posterior_ramp.T, cmap='hot', interpolation='bilinear', origin='lower', vmin=0.0, vmax=0.3, aspect = 'auto')\n",
    "plt.xlabel('Time index ($ \\Delta t = 10 ms$)')\n",
    "plt.ylabel('$s_t$')\n",
    "plt.colorbar()\n",
    "plt.show()"
   ]
  },
  {
   "cell_type": "code",
   "execution_count": null,
   "metadata": {},
   "outputs": [],
   "source": [
    "ll_step.shape"
   ]
  }
 ],
 "metadata": {
  "kernelspec": {
   "display_name": "Python 3",
   "language": "python",
   "name": "python3"
  },
  "language_info": {
   "codemirror_mode": {
    "name": "ipython",
    "version": 3
   },
   "file_extension": ".py",
   "mimetype": "text/x-python",
   "name": "python",
   "nbconvert_exporter": "python",
   "pygments_lexer": "ipython3",
   "version": "3.11.9"
  }
 },
 "nbformat": 4,
 "nbformat_minor": 2
}
